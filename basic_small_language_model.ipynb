{
 "cells": [
  {
   "cell_type": "markdown",
   "id": "fb85ea07",
   "metadata": {},
   "source": [
    "# Training a Small Language Model from Scratch"
   ]
  },
  {
   "cell_type": "markdown",
   "id": "a0216c29",
   "metadata": {},
   "source": [
    "## Workflow"
   ]
  },
  {
   "cell_type": "code",
   "execution_count": 14,
   "id": "35f531bb",
   "metadata": {},
   "outputs": [],
   "source": [
    "import torch\n",
    "import torch.nn as nn\n",
    "import torch.nn.functional as F\n",
    "import random\n",
    "\n",
    "# === Dataset ===\n",
    "# A very small example dataset for next-word prediction.\n",
    "text = (\n",
    "    \"once upon a time there were three little pigs who went out into the world\"\n",
    "    \"to build their own houses the first little pig built his house out of straw\"\n",
    "    \"the second little pig built his house out of sticks\"\n",
    "    \"the third little pig built his house out of bricks\"\n",
    ")\n",
    "\n",
    "# === Tokenization ===\n",
    "# Convert words to integer indices and create a vocabulary.\n",
    "words = list(set(text.split()))\n",
    "word2idx = {w: i for i, w in enumerate(words)}\n",
    "idx2word = {i: w for w, i in word2idx.items()}\n",
    "vocab_size = len(words)\n",
    "\n",
    "# === Encoding ===\n",
    "# Convert text to a sequence of integer IDs.\n",
    "encoded = [word2idx[w] for w in text.split()]\n",
    "\n",
    "# === Training Data Preparation ===\n",
    "# Create input-output pairs using a fixed context window.\n",
    "def get_batches(encoded, context_size=2):\n",
    "    inputs, targets = [], []\n",
    "    for i in range(len(encoded) - context_size):\n",
    "        context = encoded[i:i+context_size]       # input context\n",
    "        target = encoded[i+context_size]          # next word to predict\n",
    "        inputs.append(context)\n",
    "        targets.append(target)\n",
    "    return torch.tensor(inputs), torch.tensor(targets)\n",
    "\n",
    "x, y = get_batches(encoded)\n",
    "\n",
    "# === Model Definition ===\n",
    "# A tiny feedforward model that uses word embeddings.\n",
    "class TinyLLM(nn.Module):\n",
    "    def __init__(self, vocab_size, embed_dim, context_size):\n",
    "        super().__init__()\n",
    "        self.embed = nn.Embedding(vocab_size, embed_dim)                  # word embedding\n",
    "        self.fc = nn.Linear(embed_dim * context_size, vocab_size)        # predicts next word\n",
    "\n",
    "    def forward(self, x):\n",
    "        x = self.embed(x)                # shape: (batch, context_size, embed_dim)\n",
    "        x = x.view(x.size(0), -1)        # flatten embeddings\n",
    "        return self.fc(x)                # logits for vocab\n",
    "\n",
    "# === Model Initialization ===\n",
    "# Initialize the model and optimizer.\n",
    "context_size = 2\n",
    "model = TinyLLM(vocab_size, embed_dim=10, context_size=context_size)\n",
    "optimizer = torch.optim.Adam(model.parameters(), lr=0.01)\n",
    "loss_fn = nn.CrossEntropyLoss()\n",
    "\n",
    "# === Training Loop ===\n",
    "# Train the model to minimize cross-entropy loss.\n",
    "for epoch in range(200):\n",
    "    logits = model(x)\n",
    "    loss = loss_fn(logits, y)\n",
    "    optimizer.zero_grad()\n",
    "    loss.backward()\n",
    "    optimizer.step()\n",
    "\n",
    "# === Predict next word(s) ===\n",
    "def predict_next_n(context_words, n=3):\n",
    "    result = context_words.copy()\n",
    "    for _ in range(n):\n",
    "        context_idx = torch.tensor([[word2idx[w] for w in result[-context_size:]]])\n",
    "        logits = model(context_idx)\n",
    "        predicted_idx = torch.argmax(logits, dim=1).item()\n",
    "        predicted_word = idx2word[predicted_idx]\n",
    "        result.append(predicted_word)\n",
    "    return result\n"
   ]
  },
  {
   "cell_type": "markdown",
   "id": "1a90c8c6",
   "metadata": {},
   "source": [
    "## Example Prediction of next word"
   ]
  },
  {
   "cell_type": "code",
   "execution_count": 17,
   "id": "bc44382a",
   "metadata": {},
   "outputs": [
    {
     "name": "stdout",
     "output_type": "stream",
     "text": [
      "['little', 'pig', 'built']\n"
     ]
    }
   ],
   "source": [
    "# Test the model with an example input\n",
    "print(predict_next_n([\"little\", \"pig\"], n=1))"
   ]
  },
  {
   "cell_type": "markdown",
   "id": "6aa1b0ef",
   "metadata": {},
   "source": [
    "## Example Prediction of multiple next words"
   ]
  },
  {
   "cell_type": "code",
   "execution_count": 19,
   "id": "bb053625",
   "metadata": {},
   "outputs": [
    {
     "name": "stdout",
     "output_type": "stream",
     "text": [
      "['little', 'pig', 'built', 'his', 'house', 'out', 'of']\n"
     ]
    }
   ],
   "source": [
    "# Test the model with an example input for multiple predictions.\n",
    "print(predict_next_n([\"little\", \"pig\"], n=5))"
   ]
  },
  {
   "cell_type": "markdown",
   "id": "d187f856",
   "metadata": {},
   "source": [
    "### Jupyter notebook --footer info-- (please always provide this at the end of each notebook)"
   ]
  },
  {
   "cell_type": "code",
   "execution_count": null,
   "id": "c0fc1bbf",
   "metadata": {},
   "outputs": [
    {
     "name": "stdout",
     "output_type": "stream",
     "text": [
      "-----------------------------------\n",
      "NT\n",
      "Windows | 10\n",
      "Datetime: 2025-04-24 09:15:38\n",
      "Python Version: 3.11.11\n",
      "-----------------------------------\n"
     ]
    }
   ],
   "source": [
    "import os\n",
    "import platform\n",
    "import socket\n",
    "from platform import python_version\n",
    "from datetime import datetime\n",
    "\n",
    "print('-----------------------------------')\n",
    "print(os.name.upper())\n",
    "print(platform.system(), '|', platform.release())\n",
    "print('Datetime:', datetime.now().strftime(\"%Y-%m-%d %H:%M:%S\"))\n",
    "print('Python Version:', python_version())\n",
    "print('-----------------------------------')"
   ]
  }
 ],
 "metadata": {
  "kernelspec": {
   "display_name": "semsenv",
   "language": "python",
   "name": "python3"
  },
  "language_info": {
   "codemirror_mode": {
    "name": "ipython",
    "version": 3
   },
   "file_extension": ".py",
   "mimetype": "text/x-python",
   "name": "python",
   "nbconvert_exporter": "python",
   "pygments_lexer": "ipython3",
   "version": "3.11.11"
  }
 },
 "nbformat": 4,
 "nbformat_minor": 5
}
